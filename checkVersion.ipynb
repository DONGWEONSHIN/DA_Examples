{
 "cells": [
  {
   "cell_type": "code",
   "execution_count": 2,
   "metadata": {},
   "outputs": [
    {
     "name": "stdout",
     "output_type": "stream",
     "text": [
      "OS : macOS-10.16-x86_64-i386-64bit\n",
      "Python : 3.10.13\n",
      "Numpy : 1.23.5\n",
      "Pandas : 1.5.3\n",
      "Matplotlib : 3.7.3\n",
      "Seaborn : 0.12.2\n",
      "Scikit-learn : 1.2.2\n",
      "xgboost : 2.0.1\n",
      "catboost : 1.1.1\n",
      "ipykernel : 6.26.0\n",
      "graphviz : 0.20.1\n",
      "pycaret : 3.1.0\n"
     ]
    }
   ],
   "source": [
    "# 버전 확인\n",
    "import numpy as np\n",
    "import pandas as pd\n",
    "import matplotlib\n",
    "import seaborn as sns\n",
    "# import xlrd\n",
    "# import openpyxl\n",
    "import sklearn\n",
    "import xgboost\n",
    "# import lightgbm\n",
    "import catboost\n",
    "import ipykernel\n",
    "# import notebook\n",
    "# import pyqt5\n",
    "import graphviz\n",
    "# import missingno\n",
    "# import cv2\n",
    "import platform\n",
    "import sys\n",
    "import pycaret\n",
    "\n",
    "\n",
    "print(\"OS :\",platform.platform())\n",
    "print(f\"Python : {sys.version_info.major}.{sys.version_info.minor}.{sys.version_info.micro}\")\n",
    "print('Numpy :', np.__version__)\n",
    "print('Pandas :', pd.__version__)\n",
    "print('Matplotlib :', matplotlib.__version__)\n",
    "print('Seaborn :', sns.__version__)\n",
    "print('Scikit-learn :', sklearn.__version__)\n",
    "print(\"xgboost :\",xgboost.__version__)\n",
    "# print(\"lightgbm :\",lightgbm.__version__)\n",
    "print(\"catboost :\",catboost.__version__)\n",
    "# print(\"xlrd :\",xlrd.__version__)\n",
    "# print(\"openpyxl :\",openpyxl.__version__)\n",
    "print(\"ipykernel :\",ipykernel.__version__)\n",
    "# print(\"notebook :\",notebook.__version__)\n",
    "print(\"graphviz :\",graphviz.__version__)\n",
    "# print(\"missingno :\",missingno.__version__)\n",
    "# print(\"cv2 :\",cv2.__version__)\n",
    "print(\"pycaret :\",pycaret.__version__)"
   ]
  },
  {
   "cell_type": "code",
   "execution_count": null,
   "metadata": {},
   "outputs": [],
   "source": []
  }
 ],
 "metadata": {
  "kernelspec": {
   "display_name": "PyCaret",
   "language": "python",
   "name": "da_venv"
  },
  "language_info": {
   "codemirror_mode": {
    "name": "ipython",
    "version": 3
   },
   "file_extension": ".py",
   "mimetype": "text/x-python",
   "name": "python",
   "nbconvert_exporter": "python",
   "pygments_lexer": "ipython3",
   "version": "3.10.13"
  }
 },
 "nbformat": 4,
 "nbformat_minor": 2
}
